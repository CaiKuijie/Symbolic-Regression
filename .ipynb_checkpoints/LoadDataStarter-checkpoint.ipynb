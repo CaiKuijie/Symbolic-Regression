{
 "cells": [
  {
   "cell_type": "code",
   "execution_count": 4,
   "metadata": {},
   "outputs": [],
   "source": [
    "import numpy as np\n",
    "import tensorflow as tf\n",
    "import csv"
   ]
  },
  {
   "cell_type": "code",
   "execution_count": 8,
   "metadata": {},
   "outputs": [],
   "source": [
    "# load in data from file\n",
    "fname_eq = './data/desired_equation_components.txt'\n",
    "fname_phi = './data/encoded_states.txt'\n",
    "equation_strings = []\n",
    "with open(fname_eq, 'rb') as csvfile:\n",
    "    reader = csv.reader(csvfile, delimiter='\\n')\n",
    "    for row in reader:\n",
    "        equation_strings.append(','.join(row))\n",
    "phi_list = []\n",
    "with open(fname_phi, 'rb') as csvfile:\n",
    "    reader = csv.reader(csvfile, delimiter='\\n')\n",
    "    for row in reader:\n",
    "        phi_list.append(','.join(row))"
   ]
  },
  {
   "cell_type": "code",
   "execution_count": null,
   "metadata": {
    "collapsed": true
   },
   "outputs": [],
   "source": [
    "def create_dictionaries(equation_strings):\n",
    "    dictionary = {}\n",
    "    reverse_dictionary = {}\n",
    "    index = 1\n",
    "    for equation in equation_strings:\n",
    "        for element in equation:\n",
    "            if element not in dictionary.keys():\n",
    "                dictionary[element] = index\n",
    "                reverse_dictionary[index] = element\n",
    "                index += 1"
   ]
  },
  {
   "cell_type": "code",
   "execution_count": null,
   "metadata": {
    "collapsed": true
   },
   "outputs": [],
   "source": [
    "def eq_str_to_one_hot(eq_str):\n",
    "    "
   ]
  }
 ],
 "metadata": {
  "kernelspec": {
   "display_name": "Python 2",
   "language": "python",
   "name": "python2"
  },
  "language_info": {
   "codemirror_mode": {
    "name": "ipython",
    "version": 2
   },
   "file_extension": ".py",
   "mimetype": "text/x-python",
   "name": "python",
   "nbconvert_exporter": "python",
   "pygments_lexer": "ipython2",
   "version": "2.7.14"
  }
 },
 "nbformat": 4,
 "nbformat_minor": 2
}
