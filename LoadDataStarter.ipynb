{
 "cells": [
  {
   "cell_type": "code",
   "execution_count": 4,
   "metadata": {},
   "outputs": [],
   "source": [
    "import numpy as np\n",
    "import tensorflow as tf\n",
    "import csv"
   ]
  },
  {
   "cell_type": "code",
   "execution_count": 25,
   "metadata": {},
   "outputs": [],
   "source": [
    "# load in data from file\n",
    "fname_eq = './data/desired_equation_components.txt'\n",
    "fname_phi = './data/encoded_states.txt'\n",
    "equation_strings = []\n",
    "with open(fname_eq, 'rb') as csvfile:\n",
    "    reader = csv.reader(csvfile, delimiter='\\n')\n",
    "    for row in reader:\n",
    "        equation_strings.append(row[0].split(','))\n",
    "phi_list = []\n",
    "with open(fname_phi, 'rb') as csvfile:\n",
    "    reader = csv.reader(csvfile, delimiter='\\n')\n",
    "    for row in reader:\n",
    "        phi_list.append(row)"
   ]
  },
  {
   "cell_type": "code",
   "execution_count": 26,
   "metadata": {
    "collapsed": true
   },
   "outputs": [],
   "source": [
    "def create_dictionaries(equation_strings):\n",
    "    dictionary = {}\n",
    "    reverse_dictionary = {}\n",
    "    index = 1\n",
    "    for equation in equation_strings:\n",
    "        for element in equation:\n",
    "            if element not in dictionary.keys():\n",
    "                dictionary[element] = index\n",
    "                reverse_dictionary[index] = element\n",
    "                index += 1\n",
    "    return dictionary, reverse_dictionary"
   ]
  },
  {
   "cell_type": "code",
   "execution_count": 31,
   "metadata": {
    "collapsed": true
   },
   "outputs": [],
   "source": [
    "def eq_strings_to_one_hot(equation_strings, dictionary):\n",
    "    one_hot_list = []\n",
    "    for eq_str in equation_strings:\n",
    "        M = len(eq_str)\n",
    "        N = len(dictionary)+1\n",
    "        one_hot = np.zeros((M,N))\n",
    "        for eq_index, eq_element in enumerate(eq_str):\n",
    "            one_hot_index = dictionary[eq_element]\n",
    "            one_hot[eq_index,one_hot_index] = 1\n",
    "        one_hot_list.append(one_hot)\n",
    "    return one_hot_list"
   ]
  },
  {
   "cell_type": "code",
   "execution_count": 36,
   "metadata": {},
   "outputs": [
    {
     "name": "stdout",
     "output_type": "stream",
     "text": [
      "{'cos': 5, ')': 3, '(': 1, '+': 6, 'x': 2, 'sin': 4}\n",
      "[[ 0.  1.  0.  0.  0.  0.  0.]\n",
      " [ 0.  0.  1.  0.  0.  0.  0.]\n",
      " [ 0.  0.  0.  1.  0.  0.  0.]]\n",
      "['(', 'x', ')']\n"
     ]
    }
   ],
   "source": [
    "dictionary, reverse_dictionary = create_dictionaries(equation_strings)\n",
    "one_hot_list = eq_strings_to_one_hot(equation_strings, dictionary)\n",
    "num_classes = len(dictionary)+1\n",
    "num_training = len(equation_strings)\n",
    "max_len_equation = max([len(e) for e in equation_strings])\n",
    "print(dictionary)\n",
    "print(one_hot_list[0])\n",
    "print(equation_strings[0])"
   ]
  },
  {
   "cell_type": "code",
   "execution_count": null,
   "metadata": {
    "collapsed": true
   },
   "outputs": [],
   "source": []
  }
 ],
 "metadata": {
  "kernelspec": {
   "display_name": "Python 2",
   "language": "python",
   "name": "python2"
  },
  "language_info": {
   "codemirror_mode": {
    "name": "ipython",
    "version": 2
   },
   "file_extension": ".py",
   "mimetype": "text/x-python",
   "name": "python",
   "nbconvert_exporter": "python",
   "pygments_lexer": "ipython2",
   "version": "2.7.14"
  }
 },
 "nbformat": 4,
 "nbformat_minor": 2
}
